{
 "cells": [
  {
   "cell_type": "code",
   "execution_count": 1,
   "metadata": {},
   "outputs": [],
   "source": [
    "import numpy as np\n",
    "import strawberryfields as sf\n",
    "import tensorflow as tf\n",
    "import matplotlib.pyplot as plt"
   ]
  },
  {
   "cell_type": "code",
   "execution_count": 3,
   "metadata": {},
   "outputs": [
    {
     "name": "stdout",
     "output_type": "stream",
     "text": [
      "True\n"
     ]
    }
   ],
   "source": [
    "#Cutoff dimension - don't need more than 10 modes in the simulation\n",
    "cutoff_dim = 10\n",
    "#Gate cutoff - don't want a single gate acting on more than cutoff_gate modes\n",
    "cutoff_gate = 4\n",
    "#Number of layers in the circuit\n",
    "depth = 7\n",
    "#Number of iterations during gradient descent\n",
    "iterations = 200\n",
    "#learning rate\n",
    "learn_rate = 0.025\n",
    "#Standard deviation of initial parameters\n",
    "passive_sd = 0.1\n",
    "active_sd = 0.001\n",
    "\n",
    "#Setting seeds for reproducibility\n",
    "tf.random.set_seed(100)\n",
    "np.random.seed(100)\n",
    "\n",
    "'''The following code defines the gates in one layer of the circuit, and that layer\n",
    "will get stacked depth times'''\n",
    "#Squeezing gate\n",
    "Xi_r = tf.random.normal(shape=[depth], stddev=active_sd)\n",
    "Xi_phi = tf.random.normal(shape=[depth], stddev=passive_sd)\n",
    "\n",
    "#Displacement gate\n",
    "Alpha_r = tf.random.normal(shape=[depth], stddev=active_sd)\n",
    "Alpha_phi = tf.random.normal(shape=[depth], stddev=passive_sd)\n",
    "\n",
    "#Quadrature rotation gates\n",
    "Rot1 = tf.random.normal(shape=[depth], stddev=passive_sd)\n",
    "Rot2 = tf.random.normal(shape=[depth], stddev=passive_sd)\n",
    "\n",
    "#Kerr gate\n",
    "Kappa = tf.random.normal(shape=[depth], stddev=active_sd)\n",
    "\n",
    "#Variational parameters in the gates\n",
    "var_params = tf.convert_to_tensor([Rot1, Xi_r, Xi_phi, Rot2, Alpha_r, Alpha_phi, Kappa])\n",
    "var_params = tf.Variable(tf.transpose(var_params))\n",
    "\n",
    "#Sanity check for dimension of var_params tensor\n",
    "print(var_params.shape == (depth, 7)) #7 because each layer has 7 gates, i.e., 7 parameters"
   ]
  },
  {
   "cell_type": "code",
   "execution_count": 4,
   "metadata": {},
   "outputs": [
    {
     "name": "stdout",
     "output_type": "stream",
     "text": [
      "[[{Rot1_0} {Xi_r_0} {Xi_phi_0} {Rot2_0} {Alpha_r_0} {Alpha_phi_0}\n",
      "  {Kappa_0}]\n",
      " [{Rot1_1} {Xi_r_1} {Xi_phi_1} {Rot2_1} {Alpha_r_1} {Alpha_phi_1}\n",
      "  {Kappa_1}]\n",
      " [{Rot1_2} {Xi_r_2} {Xi_phi_2} {Rot2_2} {Alpha_r_2} {Alpha_phi_2}\n",
      "  {Kappa_2}]\n",
      " [{Rot1_3} {Xi_r_3} {Xi_phi_3} {Rot2_3} {Alpha_r_3} {Alpha_phi_3}\n",
      "  {Kappa_3}]\n",
      " [{Rot1_4} {Xi_r_4} {Xi_phi_4} {Rot2_4} {Alpha_r_4} {Alpha_phi_4}\n",
      "  {Kappa_4}]\n",
      " [{Rot1_5} {Xi_r_5} {Xi_phi_5} {Rot2_5} {Alpha_r_5} {Alpha_phi_5}\n",
      "  {Kappa_5}]\n",
      " [{Rot1_6} {Xi_r_6} {Xi_phi_6} {Rot2_6} {Alpha_r_6} {Alpha_phi_6}\n",
      "  {Kappa_6}]]\n",
      "True\n"
     ]
    }
   ],
   "source": [
    "#Circuit construction\n",
    "\n",
    "#Single mode program\n",
    "prog = sf.Program(1)\n",
    "\n",
    "#This section of the code essentially creates the 7 optimizable parameters per layer of the circuit\n",
    "sf_params = [] #list for variational parameters\n",
    "names = [\"Rot1\", \"Xi_r\", \"Xi_phi\", \"Rot2\", \"Alpha_r\", \"Alpha_phi\", \"Kappa\"]\n",
    "\n",
    "for i in range(depth):\n",
    "    #For the ith layer, generate parameter names \"Rot1_i\", \"Xi_r_i\", etc.\n",
    "    sf_params_names = [\"{}_{}\".format(n, i) for n in names]\n",
    "    #Create the parameters, and append them to our list ``sf_params``.\n",
    "    sf_params.append(prog.params(*sf_params_names))\n",
    "sf_params = np.array(sf_params)\n",
    "print(sf_params)\n",
    "print(sf_params.shape == (depth, 7))"
   ]
  },
  {
   "cell_type": "code",
   "execution_count": 5,
   "metadata": {},
   "outputs": [
    {
     "name": "stdout",
     "output_type": "stream",
     "text": [
      "[[1. 0. 0. 0. 0. 0. 0. 0. 0. 0.]\n",
      " [0. 1. 0. 0. 0. 0. 0. 0. 0. 0.]\n",
      " [0. 0. 1. 0. 0. 0. 0. 0. 0. 0.]\n",
      " [0. 0. 0. 1. 0. 0. 0. 0. 0. 0.]]\n"
     ]
    }
   ],
   "source": [
    "#Just defining a layer as an operation so that it becomes easy to stack in the strawberry fields program\n",
    "@sf.utils.operation(1)\n",
    "def layer(i, q):\n",
    "    sf.ops.Rgate(sf_params[i][0]) | q\n",
    "    sf.ops.Sgate(sf_params[i][1], sf_params[i][2]) | q\n",
    "    sf.ops.Rgate(sf_params[i][3]) | q\n",
    "    sf.ops.Dgate(sf_params[i][4], sf_params[i][5]) | q\n",
    "    sf.ops.Kgate(sf_params[i][6]) | q\n",
    "    return q\n",
    "\n",
    "#Defining the input state to the circuit\n",
    "input_state = np.zeros([cutoff_gate, cutoff_dim])\n",
    "np.fill_diagonal(input_state, 1)\n",
    "print(input_state)\n",
    "\n",
    "# Apply circuit of layers with corresponding depth\n",
    "with prog.context as q:\n",
    "    sf.ops.Ket(input_state) | q\n",
    "    for j in range(depth):\n",
    "        layer(j) | q[0]"
   ]
  },
  {
   "cell_type": "code",
   "execution_count": 6,
   "metadata": {},
   "outputs": [],
   "source": [
    "#Target unitary to design a circuit for - taken from the tutorial\n",
    "Unitary = np.array([[ 0.2365-0.4822j,  0.0683+0.0445j,  0.5115-0.0953j,  0.5521-0.3597j],\\\n",
    "                  [-0.1115+0.6978j, -0.2494+0.0841j,  0.4671-0.4319j,  0.1622-0.0182j],\\\n",
    "                  [-0.2235-0.2592j,  0.2436-0.0538j, -0.0926-0.5381j,  0.2727+0.6694j],\\\n",
    "                  [ 0.1152-0.286j,  -0.9016-0.221j,  -0.0963-0.1311j, -0.02  +0.1277j]], dtype = np.complex128)\n",
    "Target_unitary = np.identity(cutoff_dim, dtype=np.complex128)\n",
    "Target_unitary[:cutoff_gate, :cutoff_gate] = Unitary\n",
    "\n",
    "#Backend for simulation and optimization\n",
    "engine = sf.Engine('tf', backend_options={\"cutoff_dim\": cutoff_dim, \"batch_size\": cutoff_gate})\n",
    "\n",
    "'''Calculating the target kets from the target unitary, i.e., how the target unitary\n",
    "acts on the input fock states'''\n",
    "input_state_index = np.arange(cutoff_gate)\n",
    "target_kets = np.array([Target_unitary[:, i] for i in input_state_index])\n",
    "target_kets = tf.constant(target_kets, dtype=tf.complex64)\n",
    "\n",
    "#Loss function to optimize with\n",
    "def cost(weights):\n",
    "    '''Create a dictionary mapping from the names of the variational parameters\n",
    "    to the TensorFlow weight values'''\n",
    "    mapping = {p.name: w for p, w in zip(sf_params.flatten(), tf.reshape(weights, [-1]))}\n",
    "    #Simulate the circuit\n",
    "    state = engine.run(prog, args=mapping).state\n",
    "    #Get final state\n",
    "    ket = state.ket()\n",
    "    #Sum of fidelities\n",
    "    overlaps = tf.math.real(tf.einsum('bi,bi->b', tf.math.conj(target_kets), ket))\n",
    "    mean_overlap = tf.reduce_mean(overlaps)\n",
    "    #Objective function to minimize\n",
    "    cost = tf.abs(tf.reduce_sum(overlaps - 1))\n",
    "    return cost, overlaps, ket"
   ]
  },
  {
   "cell_type": "code",
   "execution_count": 42,
   "metadata": {},
   "outputs": [
    {
     "name": "stdout",
     "output_type": "stream",
     "text": [
      "Rep: 10.0 Cost: 1.4919 Mean overlap: 0.6270\n",
      "Rep: 20.0 Cost: 0.8934 Mean overlap: 0.7766\n",
      "Rep: 30.0 Cost: 0.6916 Mean overlap: 0.8271\n",
      "Rep: 40.0 Cost: 0.5997 Mean overlap: 0.8501\n",
      "Rep: 50.0 Cost: 0.5668 Mean overlap: 0.8583\n",
      "Rep: 60.0 Cost: 0.5529 Mean overlap: 0.8618\n",
      "Rep: 70.0 Cost: 0.5456 Mean overlap: 0.8636\n",
      "Rep: 80.0 Cost: 0.5417 Mean overlap: 0.8646\n",
      "Rep: 90.0 Cost: 0.5428 Mean overlap: 0.8643\n",
      "Rep: 100.0 Cost: 0.5378 Mean overlap: 0.8655\n"
     ]
    }
   ],
   "source": [
    "'''Adam optimizer - no particular reason to use this except for \n",
    "the fact that it's worked great in my experience for neural network training'''\n",
    "optimizer = tf.keras.optimizers.Adam(learning_rate=learn_rate)\n",
    "\n",
    "overlap_progress = []\n",
    "cost_progress = []\n",
    "\n",
    "#Optimization of the variational parameters\n",
    "for i in range(iterations):\n",
    "    #Reset the engine if it has already been executed\n",
    "    if engine.run_progs:\n",
    "        engine.reset()\n",
    "\n",
    "    #One optimization iteration\n",
    "    with tf.GradientTape() as tape:\n",
    "        loss, overlaps_val, ket_val = cost(var_params)\n",
    "        \n",
    "    #Calculate the loss\n",
    "    mean_overlap_val = np.mean(overlaps_val)\n",
    "\n",
    "    #Store loss at each step\n",
    "    cost_progress.append(loss)\n",
    "    overlap_progress.append(overlaps_val)\n",
    "\n",
    "    #Update parameters using gradient descent\n",
    "    gradients = tape.gradient(loss, var_params)\n",
    "    optimizer.apply_gradients(zip([gradients], [var_params]))\n",
    "\n",
    "    # Prints progress at every rep\n",
    "    if (i + 1) % int(iterations/10) == 0:\n",
    "        # print progress\n",
    "        print(\"Rep: {} Cost: {:.4f} Mean overlap: {:.4f}\".format((100*(i+1)/iterations), loss, mean_overlap_val))"
   ]
  },
  {
   "cell_type": "code",
   "execution_count": 43,
   "metadata": {},
   "outputs": [],
   "source": [
    "depth_list.append(depth)\n",
    "final_fitness.append(mean_overlap_val)"
   ]
  },
  {
   "cell_type": "code",
   "execution_count": 44,
   "metadata": {},
   "outputs": [
    {
     "name": "stdout",
     "output_type": "stream",
     "text": [
      "[0.5000378, 0.7233624, 0.79582274, 0.8177913, 0.8584324, 0.86553866]\n",
      "[1, 2, 3, 4, 5, 6]\n"
     ]
    }
   ],
   "source": [
    "print(final_fitness)\n",
    "print(depth_list)"
   ]
  },
  {
   "cell_type": "code",
   "execution_count": 2,
   "metadata": {},
   "outputs": [
    {
     "data": {
      "image/png": "[encoded data removed]",
      "text/plain": [
       "<Figure size 432x288 with 1 Axes>"
      ]
     },
     "metadata": {
      "needs_background": "light"
     },
     "output_type": "display_data"
    }
   ],
   "source": [
    "final_fitness = [0.5000378, 0.7233624, 0.79582274, 0.8177913, 0.8584324, 0.86553866]\n",
    "depth_list = [1, 2, 3, 4, 5, 6]\n",
    "\n",
    "plt.figure()\n",
    "plt.plot(depth_list, final_fitness, 'b')\n",
    "plt.ylabel('Final fidelity')\n",
    "plt.xlabel('Circuit depth')\n",
    "plt.show()"
   ]
  },
  {
   "cell_type": "code",
   "execution_count": null,
   "metadata": {},
   "outputs": [],
   "source": []
  }
 ],
 "metadata": {
  "kernelspec": {
   "display_name": "Python 3",
   "language": "python",
   "name": "python3"
  },
  "language_info": {
   "codemirror_mode": {
    "name": "ipython",
    "version": 3
   },
   "file_extension": ".py",
   "mimetype": "text/x-python",
   "name": "python",
   "nbconvert_exporter": "python",
   "pygments_lexer": "ipython3",
   "version": "3.7.7"
  }
 },
 "nbformat": 4,
 "nbformat_minor": 4
}
