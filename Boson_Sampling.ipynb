{
 "cells": [
  {
   "cell_type": "code",
   "execution_count": 1,
   "metadata": {},
   "outputs": [],
   "source": [
    "import numpy as np\n",
    "import strawberryfields as sf\n",
    "from strawberryfields import ops\n",
    "import matplotlib.pyplot as plt\n",
    "from scipy.linalg import block_diag"
   ]
  },
  {
   "cell_type": "code",
   "execution_count": 2,
   "metadata": {},
   "outputs": [],
   "source": [
    "#Creating a 4 mode simulation for boson sampling\n",
    "n_modes = 4 #Number of modes for the simulation (i.e., number of single photon sources)\n",
    "BS = sf.Program(n_modes)\n",
    "\n",
    "#The photonic quantum circuit\n",
    "with BS.context as q:\n",
    "    #q is a list of the modes\n",
    "    #Initializing the input fock state: 2 input photons, Configuration - 1, 1, 0, 0\n",
    "    ops.Fock(1) | q[0]\n",
    "    ops.Fock(1) | q[1]\n",
    "    ops.Fock(0) | q[2]\n",
    "    ops.Fock(0) | q[3]\n",
    "    #Rotations for mode quadratures\n",
    "    ops.Rgate(0.5719)  | q[0]\n",
    "    ops.Rgate(-1.9782) | q[1]\n",
    "    ops.Rgate(2.0603)  | q[2]\n",
    "    ops.Rgate(0.0644)  | q[3]\n",
    "    #Beam splitter array for entanglement\n",
    "    ops.BSgate(0.7804, 0.8578)  | (q[0], q[1])\n",
    "    ops.BSgate(0.06406, 0.5165) | (q[2], q[3])\n",
    "    ops.BSgate(0.473, 0.1176)   | (q[1], q[2])\n",
    "    ops.BSgate(0.563, 0.1517)   | (q[0], q[1])\n",
    "    ops.BSgate(0.1323, 0.9946)  | (q[2], q[3])\n",
    "    ops.BSgate(0.311, 0.3231)   | (q[1], q[2])\n",
    "    ops.BSgate(0.4348, 0.0798)  | (q[0], q[1])\n",
    "    ops.BSgate(0.4368, 0.6157)  | (q[2], q[3])\n",
    "    \n",
    "#Initializing the simulation backend\n",
    "engine = sf.Engine(backend=\"fock\", backend_options={\"cutoff_dim\": 7})\n",
    "#Running the simulation\n",
    "results = engine.run(BS)\n",
    "#Probabilities of measurements\n",
    "probabilities = results.state.all_fock_probs()"
   ]
  },
  {
   "cell_type": "code",
   "execution_count": 3,
   "metadata": {},
   "outputs": [
    {
     "name": "stdout",
     "output_type": "stream",
     "text": [
      "The probability of measuring 0, 2, 0, 0 is 0.237\n",
      "The probability of measuring 0, 0, 1, 1 is 0.034\n",
      "The probability of measuring 1, 1, 0, 0 is 0.244\n",
      "The probability of measuring 1, 1, 1, 1 is 0.0\n"
     ]
    }
   ],
   "source": [
    "#Certain state probabilities\n",
    "print(f'The probability of measuring 0, 2, 0, 0 is {round(probabilities[0,2,0,0], 3)}')\n",
    "print(f'The probability of measuring 0, 0, 1, 1 is {round(probabilities[0,0,1,1], 3)}')\n",
    "print(f'The probability of measuring 1, 1, 0, 0 is {round(probabilities[1,1,0,0], 3)}')\n",
    "print(f'The probability of measuring 1, 1, 1, 1 is {round(probabilities[1,1,1,1], 3)}')"
   ]
  },
  {
   "cell_type": "code",
   "execution_count": 4,
   "metadata": {},
   "outputs": [
    {
     "name": "stdout",
     "output_type": "stream",
     "text": [
      "[[ 0.2195-0.2565j  0.6111+0.5242j -0.1027+0.4745j -0.0273+0.0373j]\n",
      " [ 0.4513+0.6026j  0.457 +0.0123j  0.1316-0.4504j  0.0353-0.0532j]\n",
      " [ 0.0387+0.4927j -0.0192-0.3218j -0.2408+0.5244j -0.4584+0.3296j]\n",
      " [-0.1566+0.2246j  0.11  -0.1638j -0.4212+0.1836j  0.8188+0.068j ]]\n"
     ]
    }
   ],
   "source": [
    "#Unitary construction using strawberry fields functions\n",
    "\n",
    "#Another 4 mode simulation program, this time for constructing the unitary\n",
    "Unitary_prog = sf.Program(n_modes)\n",
    "\n",
    "#Don't care about the initial fock states, that's why we look at the program from element 4\n",
    "Unitary_prog.circuit = BS.circuit[4:]\n",
    "\n",
    "#Get the unitary in the form of a gaussian symplectic matrix\n",
    "Unitary_gaus_symplectic = Unitary_prog.compile(compiler=\"gaussian_unitary\")\n",
    "'''For more information on the gaussian symplectic matrix, look at: \n",
    "https://strawberryfields.readthedocs.io/en/stable/code/api/strawberryfields.ops.GaussianTransform.html\n",
    "'''\n",
    "\n",
    "#Extracting the symplectic matrix from the gaussian symplectic matrix\n",
    "Unitary_symplectic = Unitary_gaus_symplectic.circuit[0].op.p[0]\n",
    "\n",
    "#Getting the unitary from the symplectic \n",
    "Unitary = Unitary_symplectic[:4, :4] + 1j*Unitary_symplectic[4:, :4]\n",
    "print(np.round(Unitary, 4))"
   ]
  },
  {
   "cell_type": "code",
   "execution_count": 5,
   "metadata": {},
   "outputs": [
    {
     "name": "stdout",
     "output_type": "stream",
     "text": [
      "[[ 0.2195-0.2565j  0.6111+0.5242j -0.1027+0.4745j -0.0273+0.0373j]\n",
      " [ 0.4513+0.6026j  0.457 +0.0123j  0.1316-0.4504j  0.0353-0.0532j]\n",
      " [ 0.0387+0.4927j -0.0192-0.3218j -0.2408+0.5244j -0.4584+0.3296j]\n",
      " [-0.1566+0.2246j  0.11  -0.1638j -0.4212+0.1836j  0.8188+0.068j ]]\n"
     ]
    }
   ],
   "source": [
    "#Brute force way of calculating the Unitary, just so that I fully understand what the strawberry fields function does\n",
    "\n",
    "#Unitary for the rotation gates\n",
    "U_rot = np.diag([np.exp(0.5719*1j),np.exp(-1.9782*1j),np.exp(2.0603*1j),np.exp(0.0644*1j)])\n",
    "\n",
    "#The theta and phi arrays for the beam splitters\n",
    "BS_thetas = np.array([0.7804, 0.06406, 0.473, 0.563, 0.1323, 0.311, 0.4348, 0.4368])\n",
    "BS_phis = np.array([0.8578, 0.5165, 0.1176, 0.1517, 0.9946, 0.3231, 0.0798, 0.6157])\n",
    "\n",
    "#The elements of the beam splitter unitary for each beam splitter in the circuit\n",
    "Transmission_coeffs = np.cos(BS_thetas)\n",
    "Refelction_coeffs = np.sin(BS_thetas)*np.exp(1j*BS_phis)\n",
    "\n",
    "#A list of all the beam splitter unitaries\n",
    "BS_unitaries = [np.array([[Transmission_coeffs[i], -1.*np.conj(Refelction_coeffs[i])], \\\n",
    "                          [Refelction_coeffs[i], Transmission_coeffs[i]]]) for i in range (len(Transmission_coeffs))]\n",
    "\n",
    "#Making the 4x4 circuit moment unitaries - essentially unitaries of beam splitters carried out in parallel\n",
    "BS1 = block_diag(*BS_unitaries[0:2])\n",
    "BS2 = block_diag([[1]], BS_unitaries[2], [[1]])\n",
    "BS3 = block_diag(*BS_unitaries[3:5])\n",
    "BS4 = block_diag([[1]], BS_unitaries[5], [[1]])\n",
    "BS5 = block_diag(*BS_unitaries[6:8])\n",
    "\n",
    "#Final Unitary\n",
    "Unitary_analytical = np.linalg.multi_dot([BS5, BS4, BS3, BS2, BS1, U_rot])\n",
    "print(np.round(Unitary_analytical, 4))"
   ]
  },
  {
   "cell_type": "code",
   "execution_count": 6,
   "metadata": {},
   "outputs": [
    {
     "name": "stdout",
     "output_type": "stream",
     "text": [
      "[[ True  True  True  True]\n",
      " [ True  True  True  True]\n",
      " [ True  True  True  True]\n",
      " [ True  True  True  True]]\n"
     ]
    }
   ],
   "source": [
    "#Confirming that both the unitaries are the same\n",
    "print(np.round(Unitary_analytical, 4) == np.round(Unitary, 4))"
   ]
  },
  {
   "cell_type": "code",
   "execution_count": null,
   "metadata": {},
   "outputs": [],
   "source": []
  }
 ],
 "metadata": {
  "kernelspec": {
   "display_name": "Python 3",
   "language": "python",
   "name": "python3"
  },
  "language_info": {
   "codemirror_mode": {
    "name": "ipython",
    "version": 3
   },
   "file_extension": ".py",
   "mimetype": "text/x-python",
   "name": "python",
   "nbconvert_exporter": "python",
   "pygments_lexer": "ipython3",
   "version": "3.7.7"
  }
 },
 "nbformat": 4,
 "nbformat_minor": 4
}
